{
 "cells": [
  {
   "cell_type": "markdown",
   "metadata": {},
   "source": [
    "# Arxiv Library"
   ]
  },
  {
   "cell_type": "code",
   "execution_count": 1,
   "metadata": {},
   "outputs": [
    {
     "name": "stdout",
     "output_type": "stream",
     "text": [
      "Starting download of article: \"Think Before You Act: Decision Transformers with Working Memory\" (2305.16338)\n",
      "Download finished! Result saved at:\n",
      "./2305.16338v3.Think_Before_You_Act__Decision_Transformers_with_Working_Memory.pdf\n"
     ]
    }
   ],
   "source": [
    "import arxiv\n",
    "\n",
    "client = arxiv.Client()\n",
    "\n",
    "article_id = \"2305.16338\"\n",
    "\n",
    "search_result = arxiv.Client().results(arxiv.Search(id_list=[article_id]))\n",
    "\n",
    "if article := next(search_result):\n",
    "    print(f'Starting download of article: \"{article.title}\" ({article_id})')\n",
    "    pdf_path = article.download_pdf()\n",
    "    print(f\"Download finished! Result saved at:\\n{pdf_path}\")\n",
    "else:\n",
    "    print(\"Article not found.\")"
   ]
  },
  {
   "cell_type": "code",
   "execution_count": null,
   "metadata": {},
   "outputs": [],
   "source": []
  },
  {
   "cell_type": "code",
   "execution_count": null,
   "metadata": {},
   "outputs": [],
   "source": []
  },
  {
   "cell_type": "markdown",
   "metadata": {},
   "source": [
    "# Other"
   ]
  },
  {
   "cell_type": "code",
   "execution_count": null,
   "metadata": {},
   "outputs": [],
   "source": [
    "import json\n",
    "\n",
    "import requests"
   ]
  },
  {
   "cell_type": "code",
   "execution_count": null,
   "metadata": {},
   "outputs": [],
   "source": [
    "import pandas as pd\n",
    "\n",
    "df = pd.read_csv(\"../data/sample_2024.csv\")\n",
    "df.head(3)"
   ]
  },
  {
   "cell_type": "code",
   "execution_count": null,
   "metadata": {},
   "outputs": [],
   "source": [
    "from tqdm import tqdm\n",
    "\n",
    "request_fields = \"externalIds,referenceCount,citationCount,title,url,year,authors,fieldsOfStudy,s2FieldsOfStudy,publicationTypes,publicationDate,journal,references\"\n",
    "\n",
    "def request_papers(ids):\n",
    "    r = requests.post(\n",
    "        \"https://api.semanticscholar.org/graph/v1/paper/batch\",\n",
    "        params={\"fields\": request_fields},\n",
    "        json={\"ids\": ids},\n",
    "    )\n",
    "    return r.json()\n",
    "\n",
    "def save_papers_data(papers_data):\n",
    "    with open(\"papers_metadata.json\", \"w\") as f:\n",
    "        json.dump(papers_data, f, indent=4)\n",
    "\n",
    "def process_df(df):\n",
    "    papers_data = []\n",
    "\n",
    "    for i in tqdm(range(0, len(df), 100)):\n",
    "        ids = df[\"id\"].iloc[i : i + 100].tolist()\n",
    "        ids = [f\"ARXIV:{id}\" for id in ids]\n",
    "        results = request_papers(ids)\n",
    "        papers_data.extend(results)\n",
    "\n",
    "    return papers_data"
   ]
  },
  {
   "cell_type": "code",
   "execution_count": 21,
   "metadata": {},
   "outputs": [],
   "source": [
    "import json\n",
    "\n",
    "import pandas as pd\n",
    "\n",
    "with open(\"../../data/papers_metadata.json\") as f:\n",
    "    papers_data = json.load(f)\n",
    "\n",
    "papers_df = pd.read_csv(\"../../data/sample_2024.csv\")\n",
    "papers_df[\"arxiv_id\"] = papers_df[\"id\"].astype(str)"
   ]
  },
  {
   "cell_type": "code",
   "execution_count": 22,
   "metadata": {},
   "outputs": [],
   "source": [
    "from collections import defaultdict\n",
    "\n",
    "additional_data = defaultdict(list)\n",
    "paper_authors = dict()\n",
    "paper_references = dict()\n",
    "\n",
    "for paper in papers_data:\n",
    "    if paper is None:\n",
    "        continue\n",
    "    semantic_scholar_id = paper[\"paperId\"]\n",
    "    arxiv_id = paper[\"externalIds\"][\"ArXiv\"]\n",
    "    doi = paper[\"externalIds\"].get(\"DOI\", None)\n",
    "    reference_count = paper[\"referenceCount\"]\n",
    "    citation_count = paper[\"citationCount\"]\n",
    "    publication_type = paper[\"publicationTypes\"]\n",
    "    publication_type = publication_type[0] if publication_type is not None else None\n",
    "    paper_authors[arxiv_id] = paper[\"authors\"]\n",
    "    paper_references[arxiv_id] = paper[\"references\"]\n",
    "\n",
    "    additional_data[\"arxiv_id\"].append(arxiv_id)\n",
    "    additional_data[\"doi\"].append(doi)\n",
    "    additional_data[\"reference_count\"].append(reference_count)\n",
    "    additional_data[\"citation_count\"].append(citation_count)\n",
    "    additional_data[\"publication_type\"].append(publication_type)\n",
    "    additional_data[\"semantic_scholar_id\"].append(semantic_scholar_id)\n",
    "\n",
    "papers_df = pd.merge(papers_df, pd.DataFrame(additional_data), how=\"left\", on=\"arxiv_id\")"
   ]
  },
  {
   "cell_type": "code",
   "execution_count": null,
   "metadata": {},
   "outputs": [],
   "source": [
    "papers_df"
   ]
  },
  {
   "cell_type": "code",
   "execution_count": null,
   "metadata": {},
   "outputs": [],
   "source": [
    "papers_data[0]"
   ]
  }
 ],
 "metadata": {
  "kernelspec": {
   "display_name": ".venv",
   "language": "python",
   "name": "python3"
  },
  "language_info": {
   "codemirror_mode": {
    "name": "ipython",
    "version": 3
   },
   "file_extension": ".py",
   "mimetype": "text/x-python",
   "name": "python",
   "nbconvert_exporter": "python",
   "pygments_lexer": "ipython3",
   "version": "3.11.6"
  }
 },
 "nbformat": 4,
 "nbformat_minor": 2
}
