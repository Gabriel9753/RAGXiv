{
 "cells": [
  {
   "cell_type": "code",
   "execution_count": 3,
   "metadata": {},
   "outputs": [
    {
     "name": "stdout",
     "output_type": "stream",
     "text": [
      "Get metadata:  {'arxiv_id': '2403.03154', 'semantic_scholar_id': 'a4e4eec18b38ce97e06ae244fede0a83f683e097', 'title': 'Quantum Many-Body Physics Calculations with Large Language Models', 'super_category': 'Physics', 'update_year': 2024, 'reference_count': 38, 'citation_count': 0, 'author_count': 8}\n",
      "Get authors:  [{'author_id': '2290030908', 'name': 'Haining Pan'}, {'author_id': '1502124179', 'name': 'N. Mudur'}, {'author_id': '2290019079', 'name': 'Will Taranto'}, {'author_id': '2290022069', 'name': 'Maria Tikhanovskaya'}, {'author_id': '46830680', 'name': 'Subhashini Venugopalan'}, {'author_id': '12383244', 'name': 'Yasaman Bahri'}, {'author_id': '2269465922', 'name': 'Michael P. Brenner'}, {'author_id': '2290027902', 'name': 'Eun-Ah Kim'}]\n",
      "Get references:  [{'semantic_scholar_id': 'e6c561d02500b2596a230b341a8eb8b921ca5bf2', 'title': 'Scaling Laws for Neural Language Models'}, {'semantic_scholar_id': '0e8297549b4ec852ce8fd55dee9ae21501805af2', 'title': 'GPT-4 passes the bar exam'}, {'semantic_scholar_id': '9b093787f9be3d480cd11f8ec6ca5b0e44050d6d', 'title': 'Solving olympiad geometry without human demonstrations'}, {'semantic_scholar_id': 'd32ba88571141ed0ebe7aeefbaa4ccaf8cda7be3', 'title': 'Mathematical discoveries from program search with large language models'}, {'semantic_scholar_id': '7e55d8701785818776323b4147cb13354c820469', 'title': 'PaperQA: Retrieval-Augmented Generative Agent for Scientific Research'}, {'semantic_scholar_id': 'd8be118ba41df62ca92e49b1f757d53404393529', 'title': 'The Impact of Large Language Models on Scientific Discovery: a Preliminary Study using GPT-4'}, {'semantic_scholar_id': 'a4c06a716809e53950294f4d92787ac96902ed93', 'title': 'Examining the Potential and Pitfalls of ChatGPT in Science and Engineering Problem-Solving'}, {'semantic_scholar_id': '104b0bb1da562d53cbda87aec79ef6a2827d191a', 'title': 'Llama 2: Open Foundation and Fine-Tuned Chat Models'}, {'semantic_scholar_id': 'b6d6c33298b852cf63edac233deca70530d69a2a', 'title': 'PaLM 2 Technical Report'}, {'semantic_scholar_id': 'ce5e257229923ce41ab9f87b7ea4f16b65da6e5c', 'title': 'AI-assisted coding: Experiments with GPT-4'}, {'semantic_scholar_id': '170c97c7215f42edfb20c2248f954879e91ef86e', 'title': 'Chameleon: Plug-and-Play Compositional Reasoning with Large Language Models'}, {'semantic_scholar_id': 'ae6a4cd221684be6ca3082b6f526a7901281490b', 'title': 'Emergent autonomous scientific research capabilities of large language models'}, {'semantic_scholar_id': '348a1efa54376fa39053e5e25d52bd0eb6a0ba68', 'title': 'Capabilities of GPT-4 on Medical Challenge Problems'}, {'semantic_scholar_id': '23d01461a54505705649c1f5378f81dcd524d46c', 'title': 'Do Large Language Models Understand Chemistry? A Conversation with ChatGPT'}, {'semantic_scholar_id': '163b4d6a79a5b19af88b8585456363340d9efd04', 'title': 'GPT-4 Technical Report'}, {'semantic_scholar_id': 'fb408bafec0110964d06d742ef67e0aa4ebe81e1', 'title': 'Assessment of chemistry knowledge in large language models that generate code'}, {'semantic_scholar_id': '6052486bc9144dc1730c12bf35323af3792a1fd0', 'title': 'Large language models encode clinical knowledge'}, {'semantic_scholar_id': '7d645a3fd276918374fd9483fd675c28e46506d1', 'title': 'Galactica: A Large Language Model for Science'}, {'semantic_scholar_id': 'ab0e3d3e4d42369de5933a3b4c237780b41c0d77', 'title': 'Solving Quantitative Reasoning Problems with Language Models'}, {'semantic_scholar_id': 'bd1331b233e84bab7eba503abc60b31ac08e7881', 'title': 'Beyond the Imitation Game: Quantifying and extrapolating the capabilities of language models'}, {'semantic_scholar_id': '8342b592fe238f3d230e4959b06fd10153c45db1', 'title': 'Training Compute-Optimal Large Language Models'}, {'semantic_scholar_id': '03c98f16b8d8e74c4a8782ce0af8fc60ff2ed1d1', 'title': 'Topological Phases in AB-Stacked MoTe_{2}/WSe_{2}: Z_{2} Topological Insulators, Chern Insulators, and Topological Charge Density Waves.'}, {'semantic_scholar_id': 'd6045d2ccc9c09ca1671348de86d07da6bc28eea', 'title': 'Training Verifiers to Solve Math Word Problems'}, {'semantic_scholar_id': '38a70135ea2b476199dce2f1c6f1e2c97bf28285', 'title': 'Competing magnetic states in transition metal dichalcogenide moiré materials'}, {'semantic_scholar_id': 'acbdbf49f9bc3f151b93d9ca9a06009f4f6eb269', 'title': 'Evaluating Large Language Models Trained on Code'}, {'semantic_scholar_id': '57d1e7ac339e783898f2c3b1af55737cbeee9fc5', 'title': 'Measuring Mathematical Problem Solving With the MATH Dataset'}, {'semantic_scholar_id': '814a4f680b9ba6baba23b93499f4b48af1a27678', 'title': 'Measuring Massive Multitask Language Understanding'}, {'semantic_scholar_id': '90abbc2cf38462b954ae1b772fac9532e2ccd8b0', 'title': 'Language Models are Few-Shot Learners'}, {'semantic_scholar_id': '510e26733aaff585d65701b9f1be7ca9d5afc586', 'title': 'Outrageously Large Neural Networks: The Sparsely-Gated Mixture-of-Experts Layer'}, {'semantic_scholar_id': '8d47009e2dc29c5f90a8654a64bea1bf42d9d773', 'title': 'Condensed Matter Field Theory'}, {'semantic_scholar_id': 'd1120d67b700e4dfe8b39eb1e48fbdea4e1a0c43', 'title': 'HuggingGPT: Solving AI Tasks with ChatGPT and its Friends in Hugging Face'}, {'semantic_scholar_id': 'edc11420b3f2aa6638d78cceb3b12778fe07bb85', 'title': 'ChemCrow: Augmenting large-language models with chemistry tools'}, {'semantic_scholar_id': 'a7a96a6b3c1d3f59fd19f47efd03459e0feb6079', 'title': 'Evaluations'}]\n"
     ]
    }
   ],
   "source": [
    "from db_manager import DBManager\n",
    "\n",
    "db = DBManager()\n",
    "\n",
    "arxiv_id = \"2403.03154\"\n",
    "print(\"Get metadata: \", db.get_metadata_from_arxivid(arxiv_id))\n",
    "print(\"Get authors: \", db.get_authors_from_arxivid(arxiv_id))\n",
    "print(\"Get references: \", db.get_references_from_arxivid(arxiv_id))"
   ]
  }
 ],
 "metadata": {
  "kernelspec": {
   "display_name": ".venv",
   "language": "python",
   "name": "python3"
  },
  "language_info": {
   "codemirror_mode": {
    "name": "ipython",
    "version": 3
   },
   "file_extension": ".py",
   "mimetype": "text/x-python",
   "name": "python",
   "nbconvert_exporter": "python",
   "pygments_lexer": "ipython3",
   "version": "3.11.6"
  }
 },
 "nbformat": 4,
 "nbformat_minor": 2
}
